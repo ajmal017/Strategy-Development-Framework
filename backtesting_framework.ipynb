{
 "cells": [
  {
   "cell_type": "code",
   "execution_count": 2,
   "metadata": {},
   "outputs": [],
   "source": [
    "# polygon_functions - python script with all the polygon helper functions\n",
    "import pandas as pd\n",
    "from polygon_functions import *"
   ]
  },
  {
   "cell_type": "code",
   "execution_count": 19,
   "metadata": {},
   "outputs": [],
   "source": [
    "base_database = pd.read_csv('data/base_data.csv', index_col = 0)\n",
    "basic_fundamentals = pd.read_csv('data/basic_fundamentals.csv', index_col = 0)\n",
    "offering_data = pd.read_csv('data/offering_data.csv', index_col = 0)\n",
    "price_action_database = pd.read_csv('data/PA_database.csv', index_col = 0)\n",
    "uncommon_fundamentals_DB = pd.read_csv('data/uncommon_fundamentals_database.csv', index_col = 0)\n",
    "individual_historical_fades = pd.read_csv('data/individual_historical_fades.csv', index_col = 0)"
   ]
  },
  {
   "cell_type": "code",
   "execution_count": 20,
   "metadata": {},
   "outputs": [
    {
     "data": {
      "text/plain": [
       "Index(['Stock', 'Date'], dtype='object')"
      ]
     },
     "execution_count": 20,
     "metadata": {},
     "output_type": "execute_result"
    }
   ],
   "source": [
    "base_database.columns # Basic stock metadata"
   ]
  },
  {
   "cell_type": "code",
   "execution_count": 21,
   "metadata": {},
   "outputs": [
    {
     "data": {
      "text/plain": [
       "Index(['Market Capitalization', 'Current Liabilities', 'Shares', 'Cash',\n",
       "       'Operating Expenses', 'Current Ratio', 'PE Ratio', 'Earnings/Share',\n",
       "       'Debt/Equity', 'Debt', 'Current Debt', 'Interest Expense', 'Revenue',\n",
       "       'Price/Sales'],\n",
       "      dtype='object')"
      ]
     },
     "execution_count": 21,
     "metadata": {},
     "output_type": "execute_result"
    }
   ],
   "source": [
    "basic_fundamentals.columns # Common 8-K fundamentals"
   ]
  },
  {
   "cell_type": "code",
   "execution_count": 22,
   "metadata": {},
   "outputs": [
    {
     "data": {
      "text/plain": [
       "Index(['Num. Active ATMs (all time)', 'Num. Active 424s (all time)',\n",
       "       'Num. Active 424B5s (past year)', 'Num. Active 424B3s (past year)',\n",
       "       'Shares Raised in the Past Year', 'Dollars Raised in the Past Year',\n",
       "       'Current Offering (shares)', 'Current Offering (cash)', 'ATM Present',\n",
       "       'Offering Present'],\n",
       "      dtype='object')"
      ]
     },
     "execution_count": 22,
     "metadata": {},
     "output_type": "execute_result"
    }
   ],
   "source": [
    "offering_data.columns # Offerings data"
   ]
  },
  {
   "cell_type": "code",
   "execution_count": 23,
   "metadata": {},
   "outputs": [
    {
     "data": {
      "text/plain": [
       "Index(['Open Price', 'PM Beginning Price', 'PM High Price',\n",
       "       'Prior Day Price Action Trend', 'Premarket Move Change Classification',\n",
       "       'Premarket Move Time Classification', 'LOD move'],\n",
       "      dtype='object')"
      ]
     },
     "execution_count": 23,
     "metadata": {},
     "output_type": "execute_result"
    }
   ],
   "source": [
    "price_action_database.columns \n",
    "# Prior Day Price Action Trend - classifies movement from the past 10 days"
   ]
  },
  {
   "cell_type": "code",
   "execution_count": 24,
   "metadata": {},
   "outputs": [
    {
     "data": {
      "text/plain": [
       "Index(['Shares Outstanding', 'Float Shares', 'Float Percentage', 'IO%',\n",
       "       'Insider%', 'Months Left', 'Accumulated Deficit',\n",
       "       'Net Working Capital'],\n",
       "      dtype='object')"
      ]
     },
     "execution_count": 24,
     "metadata": {},
     "output_type": "execute_result"
    }
   ],
   "source": [
    "uncommon_fundamentals_DB.columns\n",
    "# Less common but much more important fundamentals\n",
    "# Months Left = Number of months the company has left in terms of cash burn"
   ]
  },
  {
   "cell_type": "code",
   "execution_count": 26,
   "metadata": {},
   "outputs": [
    {
     "data": {
      "text/plain": [
       "Index(['Failure Rate', 'Average Dump', 'Average Success', '# Dumps', 'Splits'], dtype='object')"
      ]
     },
     "execution_count": 26,
     "metadata": {},
     "output_type": "execute_result"
    }
   ],
   "source": [
    "individual_historical_fades.columns\n",
    "# Failure rate = % of gaps closed negative\n",
    "# Average dump = average % gappers dump\n",
    "# Average success = average % gappers gain\n",
    "# #Dumps - How many 10%+ moves in its whole history\n",
    "# Splits - % of the initial stock value the current stock is worth caused by reverse splits"
   ]
  },
  {
   "cell_type": "code",
   "execution_count": 36,
   "metadata": {},
   "outputs": [],
   "source": [
    "move_data = pd.concat([base_database, offering_data, price_action_database, uncommon_fundamentals_DB, individual_historical_fades], axis = 1)"
   ]
  },
  {
   "cell_type": "code",
   "execution_count": 41,
   "metadata": {},
   "outputs": [
    {
     "data": {
      "text/plain": [
       "Insider%                          -0.124445\n",
       "Average Success                   -0.089045\n",
       "Failure Rate                      -0.081046\n",
       "Splits                            -0.040303\n",
       "# Dumps                           -0.005243\n",
       "Float Percentage                  -0.001188\n",
       "Accumulated Deficit                0.000252\n",
       "PM High Price                      0.001392\n",
       "Num. Active ATMs (all time)        0.014739\n",
       "Num. Active 424B5s (past year)     0.015361\n",
       "Open Price                         0.015493\n",
       "Shares Raised in the Past Year     0.015551\n",
       "Num. Active 424s (all time)        0.019488\n",
       "ATM Present                        0.027050\n",
       "Months Left                        0.034655\n",
       "Net Working Capital                0.038787\n",
       "PM Beginning Price                 0.040890\n",
       "Current Offering (shares)          0.042826\n",
       "Dollars Raised in the Past Year    0.045183\n",
       "Offering Present                   0.052901\n",
       "Current Offering (cash)            0.060684\n",
       "Float Shares                       0.119811\n",
       "Shares Outstanding                 0.121528\n",
       "IO%                                0.140426\n",
       "Average Dump                       0.176819\n",
       "LOD move                           1.000000\n",
       "Name: LOD move, dtype: float64"
      ]
     },
     "execution_count": 41,
     "metadata": {},
     "output_type": "execute_result"
    }
   ],
   "source": [
    "move_data.corr()['LOD move'].sort_values()"
   ]
  },
  {
   "cell_type": "code",
   "execution_count": 43,
   "metadata": {},
   "outputs": [
    {
     "data": {
      "text/plain": [
       "<function polygon_functions.get_full_data_for_stock(stock, start_date, end_date)>"
      ]
     },
     "execution_count": 43,
     "metadata": {},
     "output_type": "execute_result"
    }
   ],
   "source": [
    "get_full_data_for_stock # use this to get 1m candles for stock data"
   ]
  },
  {
   "cell_type": "code",
   "execution_count": null,
   "metadata": {},
   "outputs": [],
   "source": []
  },
  {
   "cell_type": "code",
   "execution_count": null,
   "metadata": {},
   "outputs": [],
   "source": []
  },
  {
   "cell_type": "code",
   "execution_count": null,
   "metadata": {},
   "outputs": [],
   "source": []
  },
  {
   "cell_type": "code",
   "execution_count": null,
   "metadata": {},
   "outputs": [],
   "source": []
  },
  {
   "cell_type": "code",
   "execution_count": null,
   "metadata": {},
   "outputs": [],
   "source": []
  },
  {
   "cell_type": "code",
   "execution_count": null,
   "metadata": {},
   "outputs": [],
   "source": []
  },
  {
   "cell_type": "code",
   "execution_count": null,
   "metadata": {},
   "outputs": [],
   "source": []
  }
 ],
 "metadata": {
  "kernelspec": {
   "display_name": "Python 3",
   "language": "python",
   "name": "python3"
  },
  "language_info": {
   "codemirror_mode": {
    "name": "ipython",
    "version": 3
   },
   "file_extension": ".py",
   "mimetype": "text/x-python",
   "name": "python",
   "nbconvert_exporter": "python",
   "pygments_lexer": "ipython3",
   "version": "3.8.3"
  }
 },
 "nbformat": 4,
 "nbformat_minor": 4
}
